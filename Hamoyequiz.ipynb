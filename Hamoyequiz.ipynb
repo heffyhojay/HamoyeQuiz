{
  "nbformat": 4,
  "nbformat_minor": 0,
  "metadata": {
    "colab": {
      "name": "Hamoyequiz.ipynb",
      "provenance": [],
      "authorship_tag": "ABX9TyNUKfz5dR8hOWIUkOJXGGcW",
      "include_colab_link": true
    },
    "kernelspec": {
      "name": "python3",
      "display_name": "Python 3"
    }
  },
  "cells": [
    {
      "cell_type": "markdown",
      "metadata": {
        "id": "view-in-github",
        "colab_type": "text"
      },
      "source": [
        "<a href=\"https://colab.research.google.com/github/heffyhojay/HamoyeQuiz/blob/master/Hamoyequiz.ipynb\" target=\"_parent\"><img src=\"https://colab.research.google.com/assets/colab-badge.svg\" alt=\"Open In Colab\"/></a>"
      ]
    },
    {
      "cell_type": "code",
      "metadata": {
        "id": "8gAr3LJtQVef",
        "colab_type": "code",
        "colab": {
          "base_uri": "https://localhost:8080/",
          "height": 34
        },
        "outputId": "a8a76bcc-d216-4a77-ed93-bad33fb5aa68"
      },
      "source": [
        "#Number 1\n",
        "A = [1,2,3,4,5,6]\n",
        "B = [11,21,34]\n",
        "A_B = A.extend(B)\n",
        "print(A_B)"
      ],
      "execution_count": null,
      "outputs": [
        {
          "output_type": "stream",
          "text": [
            "None\n"
          ],
          "name": "stdout"
        }
      ]
    },
    {
      "cell_type": "code",
      "metadata": {
        "id": "dyVyq-kgRQ8E",
        "colab_type": "code",
        "colab": {
          "base_uri": "https://localhost:8080/",
          "height": 68
        },
        "outputId": "552cb151-8e6f-4cd1-834b-aab5c2f84c37"
      },
      "source": [
        "#Number 2\n",
        "import numpy as np\n",
        "np.identity(3)"
      ],
      "execution_count": null,
      "outputs": [
        {
          "output_type": "execute_result",
          "data": {
            "text/plain": [
              "array([[1., 0., 0.],\n",
              "       [0., 1., 0.],\n",
              "       [0., 0., 1.]])"
            ]
          },
          "metadata": {
            "tags": []
          },
          "execution_count": 3
        }
      ]
    },
    {
      "cell_type": "markdown",
      "metadata": {
        "id": "t2iSUzCBSAxN",
        "colab_type": "text"
      },
      "source": [
        "**Number** **3**"
      ]
    },
    {
      "cell_type": "code",
      "metadata": {
        "id": "vzHmWqGfRs5n",
        "colab_type": "code",
        "colab": {
          "base_uri": "https://localhost:8080/",
          "height": 71
        },
        "outputId": "3e080af2-4a21-436c-c1b6-7da559df6900"
      },
      "source": [
        "#Number 3\n",
        "import numpy as np\n",
        "import pandas as pd\n",
        "import csv\n",
        "import requests\n",
        "import seaborn as sns\n",
        "import matplotlib.pyplot as plt"
      ],
      "execution_count": null,
      "outputs": [
        {
          "output_type": "stream",
          "text": [
            "/usr/local/lib/python3.6/dist-packages/statsmodels/tools/_testing.py:19: FutureWarning: pandas.util.testing is deprecated. Use the functions in the public API at pandas.testing instead.\n",
            "  import pandas.util.testing as tm\n"
          ],
          "name": "stderr"
        }
      ]
    },
    {
      "cell_type": "code",
      "metadata": {
        "id": "ahLqBo87SNh5",
        "colab_type": "code",
        "colab": {
          "base_uri": "https://localhost:8080/",
          "height": 34
        },
        "outputId": "05a4f6d5-6664-4f81-deca-9111a3f25ef8"
      },
      "source": [
        "url = 'https://bit.ly/HDSC-StageOneDataset'\n",
        "target = 'fuel_dataset.csv'\n",
        "\n",
        "reply = requests.get(url)\n",
        "reply.raise_for_status()    #Check that request was successful\n",
        "with open(target, 'wb') as data:\n",
        "    data.write(reply.content)\n",
        "print('Download Complete!')\n",
        "\n",
        "\n",
        "my_dataset = pd.read_csv('fuel_dataset.csv')"
      ],
      "execution_count": null,
      "outputs": [
        {
          "output_type": "stream",
          "text": [
            "Download Complete!\n"
          ],
          "name": "stdout"
        }
      ]
    },
    {
      "cell_type": "code",
      "metadata": {
        "id": "aVsPZw-ESa-Z",
        "colab_type": "code",
        "colab": {
          "base_uri": "https://localhost:8080/",
          "height": 235
        },
        "outputId": "34c7a10d-2eaa-4caa-cd1c-8cb1cf186dd2"
      },
      "source": [
        "my_dataset.groupby(\"fuel_type_code_pudl\",as_index=False)[\"fuel_cost_per_unit_burned\"].mean().sort_values(by=\"fuel_cost_per_unit_burned\",ascending=True)"
      ],
      "execution_count": null,
      "outputs": [
        {
          "output_type": "execute_result",
          "data": {
            "text/html": [
              "<div>\n",
              "<style scoped>\n",
              "    .dataframe tbody tr th:only-of-type {\n",
              "        vertical-align: middle;\n",
              "    }\n",
              "\n",
              "    .dataframe tbody tr th {\n",
              "        vertical-align: top;\n",
              "    }\n",
              "\n",
              "    .dataframe thead th {\n",
              "        text-align: right;\n",
              "    }\n",
              "</style>\n",
              "<table border=\"1\" class=\"dataframe\">\n",
              "  <thead>\n",
              "    <tr style=\"text-align: right;\">\n",
              "      <th></th>\n",
              "      <th>fuel_type_code_pudl</th>\n",
              "      <th>fuel_cost_per_unit_burned</th>\n",
              "    </tr>\n",
              "  </thead>\n",
              "  <tbody>\n",
              "    <tr>\n",
              "      <th>1</th>\n",
              "      <td>gas</td>\n",
              "      <td>13.659397</td>\n",
              "    </tr>\n",
              "    <tr>\n",
              "      <th>4</th>\n",
              "      <td>other</td>\n",
              "      <td>18.253856</td>\n",
              "    </tr>\n",
              "    <tr>\n",
              "      <th>5</th>\n",
              "      <td>waste</td>\n",
              "      <td>19.518122</td>\n",
              "    </tr>\n",
              "    <tr>\n",
              "      <th>0</th>\n",
              "      <td>coal</td>\n",
              "      <td>67.421830</td>\n",
              "    </tr>\n",
              "    <tr>\n",
              "      <th>3</th>\n",
              "      <td>oil</td>\n",
              "      <td>168.877086</td>\n",
              "    </tr>\n",
              "    <tr>\n",
              "      <th>2</th>\n",
              "      <td>nuclear</td>\n",
              "      <td>4955.157002</td>\n",
              "    </tr>\n",
              "  </tbody>\n",
              "</table>\n",
              "</div>"
            ],
            "text/plain": [
              "  fuel_type_code_pudl  fuel_cost_per_unit_burned\n",
              "1                 gas                  13.659397\n",
              "4               other                  18.253856\n",
              "5               waste                  19.518122\n",
              "0                coal                  67.421830\n",
              "3                 oil                 168.877086\n",
              "2             nuclear                4955.157002"
            ]
          },
          "metadata": {
            "tags": []
          },
          "execution_count": 11
        }
      ]
    },
    {
      "cell_type": "markdown",
      "metadata": {
        "id": "pdo-FSc8Ts2k",
        "colab_type": "text"
      },
      "source": [
        "**Number** **4**"
      ]
    },
    {
      "cell_type": "code",
      "metadata": {
        "id": "VSmsAV3GTxUF",
        "colab_type": "code",
        "colab": {
          "base_uri": "https://localhost:8080/",
          "height": 170
        },
        "outputId": "f3a85eab-88ad-4e42-814c-04efeadc612e"
      },
      "source": [
        "my_dataset['fuel_mmbtu_per_unit'].describe()"
      ],
      "execution_count": null,
      "outputs": [
        {
          "output_type": "execute_result",
          "data": {
            "text/plain": [
              "count    29523.000000\n",
              "mean         8.492111\n",
              "std         10.600220\n",
              "min          0.000001\n",
              "25%          1.024000\n",
              "50%          5.762694\n",
              "75%         17.006000\n",
              "max        341.260000\n",
              "Name: fuel_mmbtu_per_unit, dtype: float64"
            ]
          },
          "metadata": {
            "tags": []
          },
          "execution_count": 12
        }
      ]
    },
    {
      "cell_type": "markdown",
      "metadata": {
        "id": "VKlG-yRfUDgk",
        "colab_type": "text"
      },
      "source": [
        "**Number** **5**"
      ]
    },
    {
      "cell_type": "code",
      "metadata": {
        "id": "JgZbo22mUH6o",
        "colab_type": "code",
        "colab": {
          "base_uri": "https://localhost:8080/",
          "height": 51
        },
        "outputId": "401ae14a-8c36-4fee-8154-25c0b9e4eb36"
      },
      "source": [
        "print(my_dataset['fuel_qty_burned'].skew())\n",
        "print(my_dataset['fuel_qty_burned'].kurt())"
      ],
      "execution_count": null,
      "outputs": [
        {
          "output_type": "stream",
          "text": [
            "15.851495469109503\n",
            "651.3694501337732\n"
          ],
          "name": "stdout"
        }
      ]
    },
    {
      "cell_type": "markdown",
      "metadata": {
        "id": "MqvGTsKeUaeE",
        "colab_type": "text"
      },
      "source": [
        "**Number** **6**"
      ]
    },
    {
      "cell_type": "code",
      "metadata": {
        "id": "cA0U6JMbUv9B",
        "colab_type": "code",
        "colab": {
          "base_uri": "https://localhost:8080/",
          "height": 51
        },
        "outputId": "ed16f98a-9707-4425-c73d-a6cd5432e47c"
      },
      "source": [
        "empty = my_dataset['fuel_unit'].isnull()\n",
        "print(empty.sum())\n",
        "my_dataset['fuel_unit'].count()"
      ],
      "execution_count": null,
      "outputs": [
        {
          "output_type": "stream",
          "text": [
            "51\n"
          ],
          "name": "stdout"
        },
        {
          "output_type": "execute_result",
          "data": {
            "text/plain": [
              "8496"
            ]
          },
          "metadata": {
            "tags": []
          },
          "execution_count": 34
        }
      ]
    },
    {
      "cell_type": "code",
      "metadata": {
        "id": "96DaX4npbo_9",
        "colab_type": "code",
        "colab": {
          "base_uri": "https://localhost:8080/",
          "height": 34
        },
        "outputId": "427afaf7-d433-4664-9265-fdab55d214d7"
      },
      "source": [
        "51/8496 * 100"
      ],
      "execution_count": null,
      "outputs": [
        {
          "output_type": "execute_result",
          "data": {
            "text/plain": [
              "0.6002824858757062"
            ]
          },
          "metadata": {
            "tags": []
          },
          "execution_count": 36
        }
      ]
    },
    {
      "cell_type": "markdown",
      "metadata": {
        "id": "rFUYAwd3WOOO",
        "colab_type": "text"
      },
      "source": [
        "**Number** **7**"
      ]
    },
    {
      "cell_type": "code",
      "metadata": {
        "id": "RiXSb1ogWSma",
        "colab_type": "code",
        "colab": {
          "base_uri": "https://localhost:8080/",
          "height": 221
        },
        "outputId": "119b0e1f-1cfb-40f6-b913-bd1a4096c9ce"
      },
      "source": [
        "print(my_dataset['fuel_unit'])"
      ],
      "execution_count": null,
      "outputs": [
        {
          "output_type": "stream",
          "text": [
            "0        ton\n",
            "1        ton\n",
            "2        ton\n",
            "3        ton\n",
            "5        ton\n",
            "        ... \n",
            "29503    ton\n",
            "29510    ton\n",
            "29516    ton\n",
            "29517    ton\n",
            "29521    ton\n",
            "Name: fuel_unit, Length: 8547, dtype: object\n"
          ],
          "name": "stdout"
        }
      ]
    },
    {
      "cell_type": "markdown",
      "metadata": {
        "id": "ncotGQpPWT4f",
        "colab_type": "text"
      },
      "source": [
        "**Number** **8**"
      ]
    },
    {
      "cell_type": "code",
      "metadata": {
        "id": "_i-xmn62WYbx",
        "colab_type": "code",
        "colab": {
          "base_uri": "https://localhost:8080/",
          "height": 187
        },
        "outputId": "ba81cf5c-bf10-450f-943e-869b66587c11"
      },
      "source": [
        "correlation = my_dataset.corr()\n",
        "print(correlation)"
      ],
      "execution_count": null,
      "outputs": [
        {
          "output_type": "stream",
          "text": [
            "                              utility_id_ferc1  ...  fuel_cost_per_mmbtu\n",
            "utility_id_ferc1                      1.000000  ...             0.006122\n",
            "report_year                           0.093323  ...             0.010261\n",
            "fuel_qty_burned                      -0.057447  ...            -0.001896\n",
            "fuel_mmbtu_per_unit                  -0.066946  ...            -0.005884\n",
            "fuel_cost_per_unit_burned            -0.037863  ...            -0.000437\n",
            "fuel_cost_per_unit_delivered         -0.016414  ...            -0.000109\n",
            "fuel_cost_per_mmbtu                   0.006122  ...             1.000000\n",
            "\n",
            "[7 rows x 7 columns]\n"
          ],
          "name": "stdout"
        }
      ]
    },
    {
      "cell_type": "code",
      "metadata": {
        "id": "r8vvbd-KWm8v",
        "colab_type": "code",
        "colab": {
          "base_uri": "https://localhost:8080/",
          "height": 402
        },
        "outputId": "2f72b003-43f4-4d71-e229-1b055a04e86b"
      },
      "source": [
        "sns.heatmap(correlation,annot=True, fmt='.1g',cmap='coolwarm',linewidths=2, linecolor='black')\n",
        "plt.show()"
      ],
      "execution_count": null,
      "outputs": [
        {
          "output_type": "display_data",
          "data": {
            "image/png": "[encoded data removed]",
            "text/plain": [
              "<Figure size 432x288 with 2 Axes>"
            ]
          },
          "metadata": {
            "tags": [],
            "needs_background": "light"
          }
        }
      ]
    },
    {
      "cell_type": "markdown",
      "metadata": {
        "id": "-728ZizgXp6Q",
        "colab_type": "text"
      },
      "source": [
        "**Number** **9**"
      ]
    },
    {
      "cell_type": "code",
      "metadata": {
        "id": "rC0G1oxzXvmz",
        "colab_type": "code",
        "colab": {
          "base_uri": "https://localhost:8080/",
          "height": 476
        },
        "outputId": "d41b0717-f24f-4f85-aa35-16cfc9bfbb93"
      },
      "source": [
        "#since only the data of coal is needed, I will call out records of  my_dataset with fuel type coal\n",
        "my_dataset.query(\"fuel_type_code_pudl == 'coal'\", inplace = True)\n",
        "#the sum of fuel_cost_per_unit_burned of coal in each year is\n",
        "coal_data = my_dataset.groupby('report_year')['fuel_cost_per_unit_burned'].sum()\n",
        "#the percentage change over a period of 4 years (1994 and 1998) is\n",
        "coal_data.pct_change(periods=4)"
      ],
      "execution_count": null,
      "outputs": [
        {
          "output_type": "execute_result",
          "data": {
            "text/plain": [
              "report_year\n",
              "1994         NaN\n",
              "1995         NaN\n",
              "1996         NaN\n",
              "1997         NaN\n",
              "1998   -0.205677\n",
              "1999    0.118838\n",
              "2000    6.911019\n",
              "2001   -0.654589\n",
              "2002   -0.229482\n",
              "2003    0.898621\n",
              "2004   -0.904091\n",
              "2005   -0.264864\n",
              "2006    0.352357\n",
              "2007   -0.581149\n",
              "2008    0.487879\n",
              "2009    3.101388\n",
              "2010    6.145852\n",
              "2011    0.311284\n",
              "2012    0.224316\n",
              "2013   -0.612997\n",
              "2014   -0.826102\n",
              "2015   -0.215445\n",
              "2016   -0.367328\n",
              "2017   -0.418357\n",
              "2018   -0.384371\n",
              "Name: fuel_cost_per_unit_burned, dtype: float64"
            ]
          },
          "metadata": {
            "tags": []
          },
          "execution_count": 23
        }
      ]
    },
    {
      "cell_type": "markdown",
      "metadata": {
        "id": "r9wxZizrYoX6",
        "colab_type": "text"
      },
      "source": [
        "Number 10"
      ]
    },
    {
      "cell_type": "code",
      "metadata": {
        "id": "svhw3ZztYqpO",
        "colab_type": "code",
        "colab": {
          "base_uri": "https://localhost:8080/",
          "height": 102
        },
        "outputId": "dd8aaf15-1099-4660-cf20-3b6c58302268"
      },
      "source": [
        "report = ['report_year', 'fuel_cost_per_unit_delivered']\n",
        "count_1997 = 0\n",
        "count_2018 = 0\n",
        "count_1996 = 0\n",
        "count_2004 = 0\n",
        "count_2009 = 0\n",
        "my_dataset[report].head()\n",
        "for i in zip(my_dataset[report]['report_year'],my_dataset[report]['fuel_cost_per_unit_delivered']):\n",
        "  if i[0] == 1996:\n",
        "   count_1996 += i[1]\n",
        "  if i[0] == 1997:\n",
        "   count_1997 += i[1]\n",
        "  if i[0] == 2004:\n",
        "   count_2004 += i[1]\n",
        "  if i[0] == 2009:\n",
        "   count_2009 += i[1]\n",
        "  if i[0] == 2018:\n",
        "   count_2018 += i[1]\n",
        "\n",
        "print('The average fuel cost per unit delivered in 1996 is ', count_1996 // len(my_dataset))\n",
        "print('The average fuel cost per unit delivered in 1997 is ', count_1997 // len(my_dataset))\n",
        "print('The average fuel cost per unit delivered in 2004 is ', count_2004 // len(my_dataset))\n",
        "print('The average fuel cost per unit delivered in 2009 is ', count_2009 // len(my_dataset))\n",
        "print('The average fuel cost per unit delivered in 2018 is ', count_2018 // len(my_dataset))"
      ],
      "execution_count": null,
      "outputs": [
        {
          "output_type": "stream",
          "text": [
            "The average fuel cost per unit delivered in 1996 is  1.0\n",
            "The average fuel cost per unit delivered in 1997 is  1.0\n",
            "The average fuel cost per unit delivered in 2004 is  1.0\n",
            "The average fuel cost per unit delivered in 2009 is  1.0\n",
            "The average fuel cost per unit delivered in 2018 is  29.0\n"
          ],
          "name": "stdout"
        }
      ]
    }
  ]
}